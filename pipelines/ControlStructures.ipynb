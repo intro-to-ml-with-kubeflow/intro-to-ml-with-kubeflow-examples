{
 "cells": [
  {
   "cell_type": "markdown",
   "metadata": {},
   "source": [
    "# Simple Control structure\n",
    "\n",
    "Shows how to use conditional execution"
   ]
  },
  {
   "cell_type": "code",
   "execution_count": 1,
   "metadata": {},
   "outputs": [],
   "source": [
    "import kfp\n",
    "from kfp import dsl\n",
    "from kfp.components import func_to_container_op, InputPath, OutputPath"
   ]
  },
  {
   "cell_type": "markdown",
   "metadata": {},
   "source": [
    "# Functions"
   ]
  },
  {
   "cell_type": "code",
   "execution_count": 2,
   "metadata": {},
   "outputs": [],
   "source": [
    "@func_to_container_op\n",
    "def get_random_int_op(minimum: int, maximum: int) -> int:\n",
    "    \"\"\"Generate a random number between minimum and maximum (inclusive).\"\"\"\n",
    "    import random\n",
    "    result = random.randint(minimum, maximum)\n",
    "    print(result)\n",
    "    return result\n",
    "\n",
    "@func_to_container_op\n",
    "def process_small_op(data: int):\n",
    "    \"\"\"Process small numbers.\"\"\"\n",
    "    print(\"Processing small result\", data)\n",
    "    return\n",
    "\n",
    "@func_to_container_op\n",
    "def process_medium_op(data: int):\n",
    "    \"\"\"Process medium numbers.\"\"\"\n",
    "    print(\"Processing medium result\", data)\n",
    "    return\n",
    "\n",
    "@func_to_container_op\n",
    "def process_large_op(data: int):\n",
    "    \"\"\"Process large numbers.\"\"\"\n",
    "    print(\"Processing large result\", data)\n",
    "    return"
   ]
  },
  {
   "cell_type": "markdown",
   "metadata": {},
   "source": [
    "# Conditional pipeline"
   ]
  },
  {
   "cell_type": "code",
   "execution_count": 3,
   "metadata": {},
   "outputs": [],
   "source": [
    "@dsl.pipeline(\n",
    "    name='Conditional execution pipeline',\n",
    "    description='Shows how to use dsl.Condition().'\n",
    ")\n",
    "def conditional_pipeline():\n",
    "    number = get_random_int_op(0, 100).output\n",
    "    with dsl.Condition(number < 10):\n",
    "        process_small_op(number)\n",
    "    with dsl.Condition(number > 10 and number < 50):\n",
    "        process_medium_op(number)\n",
    "    with dsl.Condition(number > 50):\n",
    "        process_large_op(number)\n",
    "        "
   ]
  },
  {
   "cell_type": "markdown",
   "metadata": {},
   "source": [
    "# Submit the pipeline for execution:"
   ]
  },
  {
   "cell_type": "code",
   "execution_count": 4,
   "metadata": {},
   "outputs": [
    {
     "data": {
      "text/html": [
       "Experiment link <a href=\"/pipeline/#/experiments/details/f552d26d-6c35-42a2-8263-b784f7d9a8ee\" target=\"_blank\" >here</a>"
      ],
      "text/plain": [
       "<IPython.core.display.HTML object>"
      ]
     },
     "metadata": {},
     "output_type": "display_data"
    },
    {
     "data": {
      "text/html": [
       "Run link <a href=\"/pipeline/#/runs/details/78a4612a-fda6-479d-bc57-5216c512bf7c\" target=\"_blank\" >here</a>"
      ],
      "text/plain": [
       "<IPython.core.display.HTML object>"
      ]
     },
     "metadata": {},
     "output_type": "display_data"
    },
    {
     "data": {
      "text/plain": [
       "RunPipelineResult(run_id=78a4612a-fda6-479d-bc57-5216c512bf7c)"
      ]
     },
     "execution_count": 4,
     "metadata": {},
     "output_type": "execute_result"
    }
   ],
   "source": [
    "kfp.Client().create_run_from_pipeline_func(conditional_pipeline, arguments={})"
   ]
  },
  {
   "cell_type": "code",
   "execution_count": null,
   "metadata": {},
   "outputs": [],
   "source": []
  }
 ],
 "metadata": {
  "kernelspec": {
   "display_name": "Python 3",
   "language": "python",
   "name": "python3"
  },
  "language_info": {
   "codemirror_mode": {
    "name": "ipython",
    "version": 3
   },
   "file_extension": ".py",
   "mimetype": "text/x-python",
   "name": "python",
   "nbconvert_exporter": "python",
   "pygments_lexer": "ipython3",
   "version": "3.6.8"
  }
 },
 "nbformat": 4,
 "nbformat_minor": 2
}
